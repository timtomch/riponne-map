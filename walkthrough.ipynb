{
 "cells": [
  {
   "cell_type": "code",
   "execution_count": 16,
   "metadata": {},
   "outputs": [],
   "source": [
    "from pymarc import marcxml, map_xml, record_to_xml, XMLWriter, Record, Field"
   ]
  },
  {
   "cell_type": "code",
   "execution_count": 12,
   "metadata": {},
   "outputs": [],
   "source": [
    "writer = XMLWriter(open('output/musi.xml','wb'))"
   ]
  },
  {
   "cell_type": "code",
   "execution_count": 13,
   "metadata": {},
   "outputs": [],
   "source": [
    "def musi_map(record):\n",
    "    if record['172']['2'] == 'musi':\n",
    "        # print(record_to_xml(record))\n",
    "        writer.write(record)"
   ]
  },
  {
   "cell_type": "code",
   "execution_count": 14,
   "metadata": {},
   "outputs": [],
   "source": [
    "map_xml(musi_map,'sample-files/classif_bcur_sample.xml')"
   ]
  },
  {
   "cell_type": "code",
   "execution_count": 15,
   "metadata": {},
   "outputs": [],
   "source": [
    "writer.close()"
   ]
  },
  {
   "cell_type": "code",
   "execution_count": 21,
   "metadata": {},
   "outputs": [],
   "source": [
    "def bcu_map(record):\n",
    "    newrecord = Record()\n",
    "    newrecord.add_field(\n",
    "        Field(\n",
    "            tag = '040',\n",
    "            indicators = ['',''],\n",
    "            subfields = ['a', \"RNV vdbcul\"]\n",
    "            )\n",
    "        )\n",
    "    newrecord.add_field(\n",
    "        Field(\n",
    "            tag = '153',\n",
    "            indicators = ['',''],\n",
    "            subfields = ['a', record['172']['a']]\n",
    "            )\n",
    "        )\n",
    "    writer.write(newrecord)"
   ]
  },
  {
   "cell_type": "code",
   "execution_count": 24,
   "metadata": {},
   "outputs": [],
   "source": [
    "def laf_map(record):\n",
    "    if record['172']['2'] == 'laf':\n",
    "        print(record)\n",
    "        bcu_map(record)"
   ]
  },
  {
   "cell_type": "code",
   "execution_count": 35,
   "metadata": {},
   "outputs": [],
   "source": [
    "writer = XMLWriter(open('output/test.xml','wb'))"
   ]
  },
  {
   "cell_type": "code",
   "execution_count": 36,
   "metadata": {},
   "outputs": [],
   "source": [
    "map_xml(laf_map,'sample-files/classif_bcur_sample.xml')"
   ]
  },
  {
   "cell_type": "code",
   "execution_count": 37,
   "metadata": {},
   "outputs": [],
   "source": [
    "writer.close()"
   ]
  },
  {
   "cell_type": "code",
   "execution_count": null,
   "metadata": {},
   "outputs": [],
   "source": []
  },
  {
   "cell_type": "code",
   "execution_count": null,
   "metadata": {},
   "outputs": [],
   "source": []
  }
 ],
 "metadata": {
  "kernelspec": {
   "display_name": "Python 3",
   "language": "python",
   "name": "python3"
  },
  "language_info": {
   "codemirror_mode": {
    "name": "ipython",
    "version": 3
   },
   "file_extension": ".py",
   "mimetype": "text/x-python",
   "name": "python",
   "nbconvert_exporter": "python",
   "pygments_lexer": "ipython3",
   "version": "3.8.5"
  }
 },
 "nbformat": 4,
 "nbformat_minor": 4
}
