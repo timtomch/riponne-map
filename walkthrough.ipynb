{
 "cells": [
  {
   "cell_type": "code",
   "execution_count": 1,
   "metadata": {},
   "outputs": [],
   "source": [
    "from pymarc import marcxml, map_xml, record_to_xml, XMLWriter, Record, Field"
   ]
  },
  {
   "cell_type": "code",
   "execution_count": 2,
   "metadata": {},
   "outputs": [],
   "source": [
    "writer = XMLWriter(open('output/test.xml','wb'))"
   ]
  },
  {
   "cell_type": "code",
   "execution_count": 13,
   "metadata": {},
   "outputs": [],
   "source": [
    "def musi_map(record):\n",
    "    if record['172']['2'] == 'musi':\n",
    "        # print(record_to_xml(record))\n",
    "        writer.write(record)"
   ]
  },
  {
   "cell_type": "code",
   "execution_count": 14,
   "metadata": {},
   "outputs": [],
   "source": [
    "map_xml(musi_map,'sample-files/classif_bcur_sample.xml')"
   ]
  },
  {
   "cell_type": "code",
   "execution_count": 3,
   "metadata": {},
   "outputs": [],
   "source": [
    "def bcu_map(record):\n",
    "    newrecord = Record()\n",
    "    newrecord.add_field(record['035'])\n",
    "    newrecord.add_field(\n",
    "        Field(\n",
    "            tag = '040',\n",
    "            indicators = ['',''],\n",
    "            subfields = ['a', \"RNV vdbcul\"]\n",
    "            )\n",
    "        )\n",
    "    newrecord.add_field(\n",
    "        Field(\n",
    "            tag = '153',\n",
    "            indicators = ['',''],\n",
    "            subfields = ['a', record['172']['a']]\n",
    "            )\n",
    "        )\n",
    "    writer.write(newrecord)"
   ]
  },
  {
   "cell_type": "code",
   "execution_count": 4,
   "metadata": {},
   "outputs": [],
   "source": [
    "def laf_map(record):\n",
    "    if record['172']['2'] == 'BCUR1':\n",
    "        print(record)\n",
    "        bcu_map(record)"
   ]
  },
  {
   "cell_type": "code",
   "execution_count": 5,
   "metadata": {},
   "outputs": [
    {
     "name": "stdout",
     "output_type": "stream",
     "text": [
      "=LDR  00315nz  a2200133n  4500\n",
      "=001  016192641\n",
      "=005  20081226200926.0\n",
      "=008  081226\\\\\\a\\z\\\\bbbn\\\\\\\\\\\\\\\\\\\\\\\\\\ana\\\\\\\\\\d\n",
      "=035  \\\\$a8A000109691\n",
      "=039  \\9$y200812262009$zVLOAD\n",
      "=040  \\\\$aRERO labcur$bfre\n",
      "=072  \\\\$as1mu\n",
      "=172  \\\\$a(09)78...SLOW  $2BCUR1\n",
      "=572  \\\\$aSlothouwer, Jochen$v[musique imprimée]  $2BCU\n",
      "\n",
      "=LDR  00288nz  a2200121n  4500\n",
      "=001  016197560\n",
      "=005  20081226201724.0\n",
      "=008  081226\\\\\\a\\z\\\\bbbn\\\\\\\\\\\\\\\\\\\\\\\\\\ana\\\\\\\\\\d\n",
      "=035  \\\\$a8A000111688\n",
      "=039  \\9$y200812262017$zVLOAD\n",
      "=040  \\\\$aRERO labcur\n",
      "=172  \\\\$a780BECS  $2BCUR1\n",
      "=572  \\\\$aBechet, Sidney  $2BCU\n",
      "\n"
     ]
    }
   ],
   "source": [
    "map_xml(laf_map,'sample-files/classif_bcur_sample.xml')"
   ]
  },
  {
   "cell_type": "code",
   "execution_count": 6,
   "metadata": {},
   "outputs": [],
   "source": [
    "writer.close()"
   ]
  },
  {
   "cell_type": "code",
   "execution_count": 25,
   "metadata": {},
   "outputs": [],
   "source": [
    "def map_test(record):\n",
    "    if record['172']['2'] == 'BCUR3':\n",
    "        fields = record.get_fields('572')\n",
    "        for field in fields:\n",
    "            print(\"try\")\n",
    "            print(field.get_subfields('a')[0])"
   ]
  },
  {
   "cell_type": "code",
   "execution_count": 26,
   "metadata": {},
   "outputs": [
    {
     "name": "stdout",
     "output_type": "stream",
     "text": [
      "try\n",
      "instruments à vent de bois [2], instrument à clavier\n",
      "try\n",
      "trio instrumental\n",
      "try\n",
      "flûtes [2], basse continue (réalisée)\n",
      "try\n",
      "trio instrumental\n",
      "try\n",
      "flûte à bec, flûte, basse continue (réalisée)\n",
      "try\n",
      "trio instrumental\n"
     ]
    }
   ],
   "source": [
    "map_xml(map_test,'sample-files/classif_bcur_sample.xml')"
   ]
  },
  {
   "cell_type": "code",
   "execution_count": 29,
   "metadata": {},
   "outputs": [],
   "source": [
    "def all_fields(record):\n",
    "    if record['172']['2'] == 'BCUR3':\n",
    "        remaining = record.get_fields()\n",
    "        print(record['008'])\n",
    "        print(remaining)\n",
    "        "
   ]
  },
  {
   "cell_type": "code",
   "execution_count": 30,
   "metadata": {},
   "outputs": [
    {
     "name": "stdout",
     "output_type": "stream",
     "text": [
      "=008  110816\\\\\\a\\z\\\\bbbn\\\\\\\\\\\\\\\\\\\\\\\\\\ana\\\\\\\\\\d\n",
      "[<pymarc.field.Field object at 0x10447b820>, <pymarc.field.Field object at 0x10447b2e0>, <pymarc.field.Field object at 0x10447b640>, <pymarc.field.Field object at 0x10447bc10>, <pymarc.field.Field object at 0x10447b250>, <pymarc.field.Field object at 0x10447b070>, <pymarc.field.Field object at 0x10447b130>, <pymarc.field.Field object at 0x10447b190>, <pymarc.field.Field object at 0x10447beb0>, <pymarc.field.Field object at 0x10447b910>, <pymarc.field.Field object at 0x10447b790>, <pymarc.field.Field object at 0x10447bb20>, <pymarc.field.Field object at 0x10447b220>]\n"
     ]
    }
   ],
   "source": [
    "map_xml(all_fields,'sample-files/classif_bcur_sample.xml')"
   ]
  },
  {
   "cell_type": "code",
   "execution_count": 6,
   "metadata": {},
   "outputs": [],
   "source": [
    "newrecord = Record()\n",
    "newrecord.add_field(\n",
    "    Field(\n",
    "        tag = '040',\n",
    "        indicators = ['',''],\n",
    "        subfields = ['a', \"RNV vdbcul\"]\n",
    "    )\n",
    ")"
   ]
  },
  {
   "cell_type": "code",
   "execution_count": 7,
   "metadata": {},
   "outputs": [],
   "source": [
    "writer.write(newrecord)"
   ]
  },
  {
   "cell_type": "code",
   "execution_count": 8,
   "metadata": {},
   "outputs": [],
   "source": [
    "writer.close()"
   ]
  }
 ],
 "metadata": {
  "kernelspec": {
   "display_name": "Python 3",
   "language": "python",
   "name": "python3"
  },
  "language_info": {
   "codemirror_mode": {
    "name": "ipython",
    "version": 3
   },
   "file_extension": ".py",
   "mimetype": "text/x-python",
   "name": "python",
   "nbconvert_exporter": "python",
   "pygments_lexer": "ipython3",
   "version": "3.8.5"
  }
 },
 "nbformat": 4,
 "nbformat_minor": 4
}
